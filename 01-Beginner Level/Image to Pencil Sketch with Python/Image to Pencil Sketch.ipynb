{
 "cells": [
  {
   "cell_type": "markdown",
   "id": "3b85e580",
   "metadata": {},
   "source": [
    "# Data Science Intern at Let's Grow More LGMVIP \n",
    "# August 2022\n",
    "# Beginner Level Task # 04\n",
    "# Image to Pencil Sketch with Python\n",
    "# Usama Saleem"
   ]
  },
  {
   "cell_type": "code",
   "execution_count": 1,
   "id": "c7240f11",
   "metadata": {},
   "outputs": [],
   "source": [
    "# Importing Libraries\n",
    " import cv2"
   ]
  },
  {
   "cell_type": "code",
   "execution_count": 2,
   "id": "320428e4",
   "metadata": {},
   "outputs": [],
   "source": [
    "# Reading the original image\n",
    "image = cv2.imread('./dog.jpg')\n",
    "# Displaying Original Image\n",
    "cv2.imshow(\"Original Image\", image)\n",
    "cv2.waitKey(0)"
   ]
  },
  {
   "cell_type": "code",
   "execution_count": 3,
   "id": "a453caea",
   "metadata": {},
   "outputs": [],
   "source": [
    "# Reading the black and white image\n",
    "b_and_w_image = cv2.cvtColor(image, cv2.COLOR_BGR2GRAY)\n",
    "# Displaying Black And White Image\n",
    "cv2.imshow(\"Black and White Image\", b_and_w_image)\n",
    "cv2.waitKey(0)\n"
   ]
  },
  {
   "cell_type": "code",
   "execution_count": 4,
   "id": "bf8de3e6",
   "metadata": {},
   "outputs": [],
   "source": [
    "# Inverting the image\n",
    "inverted_image = 255 - b_and_w_image\n",
    "# Displaying Inverted Image\n",
    "cv2.imshow(\"Inverted Image\", inverted_image)\n",
    "cv2.waitKey()"
   ]
  },
  {
   "cell_type": "code",
   "execution_count": 5,
   "id": "6b6d2a26",
   "metadata": {},
   "outputs": [],
   "source": [
    "# Blurring the image\n",
    "blurred = cv2.GaussianBlur(inverted_image, (21, 21), 0)"
   ]
  },
  {
   "cell_type": "code",
   "execution_count": 7,
   "id": "87dcd23a",
   "metadata": {},
   "outputs": [],
   "source": [
    "# Inverting the Blurred Image\n",
    "inverted_blurred = 255 - blurred\n",
    "# Creating the Pencil Sketch image\n",
    "pencil_sketch = cv2.divide(b_and_w_image, inverted_blurred, scale=256.0)\n",
    "# Displaying Sketch Image\n",
    "cv2.imshow(\"Sketch Image\", pencil_sketch)\n",
    "cv2.waitKey(0)\n"
   ]
  },
  {
   "cell_type": "code",
   "execution_count": 8,
   "id": "54f84838",
   "metadata": {},
   "outputs": [],
   "source": [
    "# Displaying Original Image\n",
    "cv2.imshow(\"Original Image\", image)\n",
    "# Displaying Sketch Image\n",
    "cv2.imshow(\"Pencil Sketch Image\", pencil_sketch)\n",
    "cv2.waitKey(0)"
   ]
  },
  {
   "cell_type": "code",
   "execution_count": null,
   "id": "d1b2ec71",
   "metadata": {},
   "outputs": [],
   "source": []
  }
 ],
 "metadata": {
  "kernelspec": {
   "display_name": "Python 3 (ipykernel)",
   "language": "python",
   "name": "python3"
  },
  "language_info": {
   "codemirror_mode": {
    "name": "ipython",
    "version": 3
   },
   "file_extension": ".py",
   "mimetype": "text/x-python",
   "name": "python",
   "nbconvert_exporter": "python",
   "pygments_lexer": "ipython3",
   "version": "3.9.7"
  }
 },
 "nbformat": 4,
 "nbformat_minor": 5
}
